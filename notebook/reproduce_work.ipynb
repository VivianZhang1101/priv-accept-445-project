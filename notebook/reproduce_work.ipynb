{
 "cells": [
  {
   "cell_type": "code",
   "execution_count": null,
   "metadata": {},
   "outputs": [],
   "source": [
    "import pandas as pd\n",
    "import glob\n",
    "import os\n",
    "import json\n",
    "import numpy as np\n",
    "from  cycler import cycler\n",
    "import fastplot\n",
    "from collections import Counter, defaultdict\n",
    "from statistics import mode\n",
    "import statsmodels.stats.proportion\n",
    "import re\n",
    "\n",
    "COUNTRY_NAME = \"USA\"\n",
    "country_list = ['USA', 'UK', 'France', 'Hong Kong', 'Singapore', 'Brazil', 'Australia']\n",
    "COUNTRY_TRAD={\"it\":\"Italy\", \"fr\":\"France\", \"de\":\"Germany\", \"es\":\"Spain\", \"uk\":\"UK\", \"us\": \"US\"}\n",
    "\n",
    "CYCLER_LINESPOINTS=(cycler('color', ['r', 'b', 'g', 'purple', 'c']) +\n",
    "                    cycler('linestyle', ['-', '--', '-.', ':', (0, (3, 1, 1, 1)) ]) +\n",
    "                    cycler('marker', ['o', 's', 'v', 'd', '^' ]))\n",
    "\n",
    "CYCLER_LINES=(cycler('color', ['r', 'b', 'g', 'purple', 'c']) +\n",
    "                    cycler('linestyle', ['-', '--', '-.', ':', (0, (3, 1, 1, 1)) ]))\n",
    "\n",
    "PLOT_ARGS = {\"style\":\"latex\", \"grid\":True, \"figsize\":(4.25,2.5), \"rcParams\":{'text.latex.preamble': '\\\\usepackage{libertine}\\n\\\\usepackage{setspace}'}, \"legend_args\":{\"columnspacing\":1, \"handlelength\":1.5}}\n",
    "PLOT_ARGS_LARGE = {\"style\":\"latex\", \"grid\":True, \"figsize\":(9,2.75), \"rcParams\":{'text.latex.preamble': '\\\\usepackage{libertine}\\n\\\\usepackage{setspace}'}, \"legend_args\":{\"columnspacing\":1, \"handlelength\":1.5}}\n",
    "\n",
    "BEFORE_STR = \"\\\\emph{Before-Accept}\"\n",
    "AFTER_STR = \"\\\\emph{After-Accept}\"\n",
    "ADDITIONAL_STR = \"\\\\emph{Additional-Visits}\"\n",
    "\n",
    "TRANSLATE_CATEGORIES = {\"Computers Electronics and Technology\": \"Computers and Technology\",\n",
    "                        \"Business and Consumer Services\": \"Business and Services\",\n",
    "                        \"Heavy Industry and Engineering\": \"Industry and Engineering\"}\n",
    "\n"
   ]
  }
 ],
 "metadata": {
  "language_info": {
   "name": "python"
  }
 },
 "nbformat": 4,
 "nbformat_minor": 2
}
