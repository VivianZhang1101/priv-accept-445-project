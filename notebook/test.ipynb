{
 "cells": [
  {
   "cell_type": "code",
   "execution_count": 1,
   "metadata": {},
   "outputs": [],
   "source": [
    "import pandas as pd\n",
    "import glob\n",
    "import os\n",
    "import json\n",
    "import numpy as np\n",
    "from  cycler import cycler\n",
    "import fastplot\n",
    "from collections import Counter, defaultdict\n",
    "from statistics import mode\n",
    "import statsmodels.stats.proportion\n",
    "import re\n",
    "\n",
    "CYCLER_LINESPOINTS=(cycler('color', ['r', 'b', 'g', 'purple', 'c']) +\n",
    "                    cycler('linestyle', ['-', '--', '-.', ':', (0, (3, 1, 1, 1)) ]) +\n",
    "                    cycler('marker', ['o', 's', 'v', 'd', '^' ]))\n",
    "\n",
    "CYCLER_LINES=(cycler('color', ['r', 'b', 'g', 'purple', 'c']) +\n",
    "                    cycler('linestyle', ['-', '--', '-.', ':', (0, (3, 1, 1, 1)) ]))\n",
    "\n",
    "PLOT_ARGS = {\"style\":\"latex\", \"grid\":True, \"figsize\":(4.25,2.5), \"rcParams\":{'text.latex.preamble': '\\\\usepackage{libertine}\\n\\\\usepackage{setspace}'}, \"legend_args\":{\"columnspacing\":1, \"handlelength\":1.5}}\n",
    "PLOT_ARGS_LARGE = {\"style\":\"latex\", \"grid\":True, \"figsize\":(9,2.75), \"rcParams\":{'text.latex.preamble': '\\\\usepackage{libertine}\\n\\\\usepackage{setspace}'}, \"legend_args\":{\"columnspacing\":1, \"handlelength\":1.5}}\n",
    "\n",
    "BEFORE_STR = \"\\\\emph{Before-Accept}\"\n",
    "AFTER_STR = \"\\\\emph{After-Accept}\"\n",
    "ADDITIONAL_STR = \"\\\\emph{Additional-Visits}\"\n",
    "\n",
    "TRANSLATE_CATEGORIES = {\"Computers Electronics and Technology\": \"Computers and Technology\",\n",
    "                        \"Business and Consumer Services\": \"Business and Services\",\n",
    "                        \"Heavy Industry and Engineering\": \"Industry and Engineering\"}\n",
    "\n",
    "COUNTRY_TRAD={\"it\":\"Italy\", \"fr\":\"France\", \"de\":\"Germany\", \"es\":\"Spain\", \"uk\":\"UK\", \"us\": \"US\"}"
   ]
  },
  {
   "cell_type": "code",
   "execution_count": 2,
   "metadata": {},
   "outputs": [],
   "source": [
    "trackers = set( open(\"trackers-list.txt\", \"r\").read().splitlines() )\n",
    "\n",
    "similarweb_websites=defaultdict(set)\n",
    "similarweb_websites['us'] = set(open(\"similarweb/USA.txt\", \"r\" ).read().splitlines()) \n",
    "    "
   ]
  },
  {
   "cell_type": "code",
   "execution_count": 3,
   "metadata": {},
   "outputs": [],
   "source": [
    "bad_domains=set(\"co.uk co.jp co.hu co.il com.au co.ve .co.in com.ec com.pk co.th co.nz com.br com.sg com.sa \\\n",
    "com.do co.za com.hk com.mx com.ly com.ua com.eg com.pe com.tr co.kr com.ng com.pe com.pk co.th \\\n",
    "com.au com.ph com.my com.tw com.ec com.kw co.in co.id com.com com.vn com.bd com.ar \\\n",
    "com.co com.vn org.uk net.gr\".split())\n",
    "\n",
    "def getGood2LD(fqdn):\n",
    "    if fqdn[-1] == \".\":\n",
    "        fqdn = fqdn[:-1]    \n",
    "    names = fqdn.split(\".\")\n",
    "    if \".\".join(names[-2:]) in bad_domains:\n",
    "        return get3LD(fqdn)\n",
    "    tln_array = names[-2:]\n",
    "    tln = \"\"\n",
    "    for s in tln_array:\n",
    "        tln = tln + \".\" + s\n",
    "    return tln[1:]\n",
    "\n",
    "def get3LD(fqdn):\n",
    "    if fqdn[-1] == \".\":\n",
    "        fqdn = fqdn[:-1]\n",
    "    names = fqdn.split(\".\")\n",
    "    tln_array = names[-3:]\n",
    "    tln = \"\"\n",
    "    for s in tln_array:\n",
    "        tln = tln + \".\" + s\n",
    "    return tln[1:]"
   ]
  },
  {
   "cell_type": "code",
   "execution_count": 4,
   "metadata": {},
   "outputs": [],
   "source": [
    "df = pd.read_csv(\"../output.csv\")"
   ]
  },
  {
   "cell_type": "code",
   "execution_count": 5,
   "metadata": {},
   "outputs": [
    {
     "name": "stdout",
     "output_type": "stream",
     "text": [
      "url                                               http://character.ai\n",
      "landing_page                                    https://character.ai/\n",
      "has_found_banner                                                False\n",
      "cookie_first        [{\"domain\": \"www.google.com\", \"expires\": 17249...\n",
      "cookie_click        [{\"domain\": \"www.google.com\", \"expires\": 17249...\n",
      "cookie_internal     [{\"domain\": \"www.google.com\", \"expires\": 17249...\n",
      "domains_first       ['static.cloudflareinsights.com', 'content-fir...\n",
      "domains_click       ['o4504695552606208.ingest.sentry.io', 'charac...\n",
      "Name: 0, dtype: object\n"
     ]
    }
   ],
   "source": [
    "print(df.iloc[0])"
   ]
  },
  {
   "cell_type": "code",
   "execution_count": 6,
   "metadata": {},
   "outputs": [],
   "source": [
    "df[\"sld\"] = df[\"url\"].apply(lambda u: getGood2LD(u.split(\"/\")[2] ).strip() ) \n",
    "df[\"tld\"] = df[\"url\"].apply(lambda u: get3LD(u.split(\"/\")[2] ).strip()  ) "
   ]
  },
  {
   "cell_type": "code",
   "execution_count": 7,
   "metadata": {},
   "outputs": [
    {
     "name": "stdout",
     "output_type": "stream",
     "text": [
      "url                                               http://character.ai\n",
      "landing_page                                    https://character.ai/\n",
      "has_found_banner                                                False\n",
      "cookie_first        [{\"domain\": \"www.google.com\", \"expires\": 17249...\n",
      "cookie_click        [{\"domain\": \"www.google.com\", \"expires\": 17249...\n",
      "cookie_internal     [{\"domain\": \"www.google.com\", \"expires\": 17249...\n",
      "domains_first       ['static.cloudflareinsights.com', 'content-fir...\n",
      "domains_click       ['o4504695552606208.ingest.sentry.io', 'charac...\n",
      "sld                                                      character.ai\n",
      "tld                                                      character.ai\n",
      "Name: 0, dtype: object\n"
     ]
    }
   ],
   "source": [
    "print(df.iloc[0])"
   ]
  },
  {
   "cell_type": "code",
   "execution_count": 8,
   "metadata": {},
   "outputs": [
    {
     "name": "stdout",
     "output_type": "stream",
     "text": [
      "url                                               http://character.ai\n",
      "landing_page                                    https://character.ai/\n",
      "has_found_banner                                                False\n",
      "cookie_first        [{\"domain\": \"www.google.com\", \"expires\": 17249...\n",
      "cookie_click        [{\"domain\": \"www.google.com\", \"expires\": 17249...\n",
      "cookie_internal     [{\"domain\": \"www.google.com\", \"expires\": 17249...\n",
      "domains_first       ['static.cloudflareinsights.com', 'content-fir...\n",
      "domains_click       ['o4504695552606208.ingest.sentry.io', 'charac...\n",
      "sld                                                      character.ai\n",
      "tld                                                      character.ai\n",
      "us                                                               True\n",
      "Name: 0, dtype: object\n"
     ]
    }
   ],
   "source": [
    "df['us'] = True\n",
    "print(df.iloc[0])"
   ]
  },
  {
   "cell_type": "code",
   "execution_count": 9,
   "metadata": {},
   "outputs": [],
   "source": [
    "similarweb_csv = pd.read_csv(\"similarweb/together.csv\")"
   ]
  },
  {
   "cell_type": "code",
   "execution_count": 10,
   "metadata": {},
   "outputs": [],
   "source": [
    "# adding categories to the dataframe\n",
    "similarweb_csv[\"category\"] = similarweb_csv[\"category\"].apply(lambda s: TRANSLATE_CATEGORIES[s] if s in TRANSLATE_CATEGORIES else s)\n",
    "categories = defaultdict(set)\n",
    "\n",
    "for row in similarweb_csv.itertuples():\n",
    "    if row.category != \"ALL\" and row.country in {\"France\", \"USA\", \"UK\"} :\n",
    "        categories[row.category].add(row.website)\n",
    "        \n",
    "for category in categories:\n",
    "    df[category] = (df.sld.isin(categories[category])) | (df.tld.isin(categories[category]))\n"
   ]
  },
  {
   "cell_type": "code",
   "execution_count": 11,
   "metadata": {},
   "outputs": [
    {
     "name": "stdout",
     "output_type": "stream",
     "text": [
      "url                                                                   http://character.ai\n",
      "landing_page                                                        https://character.ai/\n",
      "has_found_banner                                                                    False\n",
      "cookie_first                            [{\"domain\": \"www.google.com\", \"expires\": 17249...\n",
      "cookie_click                            [{\"domain\": \"www.google.com\", \"expires\": 17249...\n",
      "cookie_internal                         [{\"domain\": \"www.google.com\", \"expires\": 17249...\n",
      "domains_first                           ['static.cloudflareinsights.com', 'content-fir...\n",
      "domains_click                           ['o4504695552606208.ingest.sentry.io', 'charac...\n",
      "sld                                                                          character.ai\n",
      "tld                                                                          character.ai\n",
      "us                                                                                   True\n",
      "Adult                                                                               False\n",
      "Arts_and_Entertainment                                                              False\n",
      "Business_and_Consumer_Services                                                      False\n",
      "Community_and_Society                                                               False\n",
      "Computers_Electronics_and_Technology                                                 True\n",
      "E-commerce_and_Shopping                                                             False\n",
      "Finance                                                                             False\n",
      "Food_and_Drink                                                                      False\n",
      "Gambling                                                                            False\n",
      "Games                                                                               False\n",
      "Health                                                                              False\n",
      "Heavy_Industry_and_Engineering                                                      False\n",
      "Hobbies_and_Leisure                                                                 False\n",
      "Home_and_Garden                                                                     False\n",
      "Jobs_and_Career                                                                     False\n",
      "Law_and_Government                                                                  False\n",
      "News_and_Media                                                                      False\n",
      "Pets_and_Animals                                                                    False\n",
      "Reference_Materials                                                                 False\n",
      "Science_and_Education                                                               False\n",
      "Sports                                                                              False\n",
      "Travel_and_Tourism                                                                  False\n",
      "Vehicles                                                                            False\n",
      "Lifestyle                                                                           False\n",
      "Name: 0, dtype: object\n"
     ]
    }
   ],
   "source": [
    "print(df.iloc[0])"
   ]
  },
  {
   "cell_type": "code",
   "execution_count": 12,
   "metadata": {},
   "outputs": [],
   "source": [
    "# getting the trackers for before, after and internal banner.\n",
    "# Note that only checking the tracker that is in the tracker list and not expried\n",
    "def get_trackers(s):\n",
    "    d = json.loads(s)\n",
    "    this_trackers = set()\n",
    "    for c in d:\n",
    "        if (c[\"domain\"] in trackers or getGood2LD(c[\"domain\"]) in trackers or get3LD(c[\"domain\"]) in trackers) and c[\"expires\"] > 0:\n",
    "            this_trackers.add(getGood2LD(c[\"domain\"]))\n",
    "    return list(this_trackers)\n",
    "\n",
    "df[\"trackers_first\"] = df[\"cookie_first\"].apply(get_trackers)\n",
    "df[\"trackers_click\"] = df[\"cookie_click\"].apply(get_trackers)\n",
    "df[\"trackers_internal\"] = df[\"cookie_internal\"].apply(get_trackers)"
   ]
  },
  {
   "cell_type": "code",
   "execution_count": 16,
   "metadata": {},
   "outputs": [
    {
     "name": "stdout",
     "output_type": "stream",
     "text": [
      "url                                                                   http://character.ai\n",
      "landing_page                                                        https://character.ai/\n",
      "has_found_banner                                                                    False\n",
      "cookie_first                            [{\"domain\": \"www.google.com\", \"expires\": 17249...\n",
      "cookie_click                            [{\"domain\": \"www.google.com\", \"expires\": 17249...\n",
      "cookie_internal                         [{\"domain\": \"www.google.com\", \"expires\": 17249...\n",
      "domains_first                           ['static.cloudflareinsights.com', 'content-fir...\n",
      "domains_click                           ['o4504695552606208.ingest.sentry.io', 'charac...\n",
      "sld                                                                          character.ai\n",
      "tld                                                                          character.ai\n",
      "us                                                                                   True\n",
      "Adult                                                                               False\n",
      "Arts_and_Entertainment                                                              False\n",
      "Business_and_Consumer_Services                                                      False\n",
      "Community_and_Society                                                               False\n",
      "Computers_Electronics_and_Technology                                                 True\n",
      "E-commerce_and_Shopping                                                             False\n",
      "Finance                                                                             False\n",
      "Food_and_Drink                                                                      False\n",
      "Gambling                                                                            False\n",
      "Games                                                                               False\n",
      "Health                                                                              False\n",
      "Heavy_Industry_and_Engineering                                                      False\n",
      "Hobbies_and_Leisure                                                                 False\n",
      "Home_and_Garden                                                                     False\n",
      "Jobs_and_Career                                                                     False\n",
      "Law_and_Government                                                                  False\n",
      "News_and_Media                                                                      False\n",
      "Pets_and_Animals                                                                    False\n",
      "Reference_Materials                                                                 False\n",
      "Science_and_Education                                                               False\n",
      "Sports                                                                              False\n",
      "Travel_and_Tourism                                                                  False\n",
      "Vehicles                                                                            False\n",
      "Lifestyle                                                                           False\n",
      "trackers_first                                                [google.com, appsflyer.com]\n",
      "trackers_click                                                [google.com, appsflyer.com]\n",
      "trackers_internal                                             [google.com, appsflyer.com]\n",
      "Name: 0, dtype: object\n"
     ]
    }
   ],
   "source": [
    "print(df.iloc[0])"
   ]
  },
  {
   "cell_type": "code",
   "execution_count": 15,
   "metadata": {},
   "outputs": [
    {
     "ename": "JSONDecodeError",
     "evalue": "Expecting value: line 1 column 2 (char 1)",
     "output_type": "error",
     "traceback": [
      "\u001b[1;31m---------------------------------------------------------------------------\u001b[0m",
      "\u001b[1;31mJSONDecodeError\u001b[0m                           Traceback (most recent call last)",
      "Cell \u001b[1;32mIn[15], line 84\u001b[0m\n\u001b[0;32m     54\u001b[0m     \u001b[38;5;28;01mreturn\u001b[39;00m pd\u001b[38;5;241m.\u001b[39mSeries({\u001b[38;5;124m\"\u001b[39m\u001b[38;5;124mcount\u001b[39m\u001b[38;5;124m\"\u001b[39m: num,\n\u001b[0;32m     55\u001b[0m                       \u001b[38;5;124m\"\u001b[39m\u001b[38;5;124mtrackers_first\u001b[39m\u001b[38;5;124m\"\u001b[39m: trackers_first,\n\u001b[0;32m     56\u001b[0m                       \u001b[38;5;124m\"\u001b[39m\u001b[38;5;124mtrackers_click\u001b[39m\u001b[38;5;124m\"\u001b[39m: trackers_click,\n\u001b[1;32m   (...)\u001b[0m\n\u001b[0;32m     81\u001b[0m                       \u001b[38;5;241m*\u001b[39m\u001b[38;5;241m*\u001b[39mcountries, \u001b[38;5;241m*\u001b[39m\u001b[38;5;241m*\u001b[39mcats\n\u001b[0;32m     82\u001b[0m                      })\n\u001b[0;32m     83\u001b[0m \u001b[38;5;66;03m# grouped = df.groupby([\"sld\"]).apply(website_stats).reset_index()\u001b[39;00m\n\u001b[1;32m---> 84\u001b[0m grouped \u001b[38;5;241m=\u001b[39m \u001b[43mdf\u001b[49m\u001b[38;5;241;43m.\u001b[39;49m\u001b[43mgroupby\u001b[49m\u001b[43m(\u001b[49m\u001b[43m[\u001b[49m\u001b[38;5;124;43m\"\u001b[39;49m\u001b[38;5;124;43msld\u001b[39;49m\u001b[38;5;124;43m\"\u001b[39;49m\u001b[43m]\u001b[49m\u001b[43m)\u001b[49m\u001b[38;5;241;43m.\u001b[39;49m\u001b[43mapply\u001b[49m\u001b[43m(\u001b[49m\u001b[43mwebsite_stats\u001b[49m\u001b[43m,\u001b[49m\u001b[43minclude_groups\u001b[49m\u001b[38;5;241;43m=\u001b[39;49m\u001b[38;5;28;43;01mFalse\u001b[39;49;00m\u001b[43m)\u001b[49m\u001b[38;5;241m.\u001b[39mreset_index()\n\u001b[0;32m     85\u001b[0m grouped\n",
      "File \u001b[1;32mc:\\Users\\zhang\\miniconda3\\Lib\\site-packages\\pandas\\core\\groupby\\groupby.py:1819\u001b[0m, in \u001b[0;36mGroupBy.apply\u001b[1;34m(self, func, include_groups, *args, **kwargs)\u001b[0m\n\u001b[0;32m   1816\u001b[0m     f \u001b[38;5;241m=\u001b[39m func\n\u001b[0;32m   1818\u001b[0m \u001b[38;5;28;01mif\u001b[39;00m \u001b[38;5;129;01mnot\u001b[39;00m include_groups:\n\u001b[1;32m-> 1819\u001b[0m     \u001b[38;5;28;01mreturn\u001b[39;00m \u001b[38;5;28;43mself\u001b[39;49m\u001b[38;5;241;43m.\u001b[39;49m\u001b[43m_python_apply_general\u001b[49m\u001b[43m(\u001b[49m\u001b[43mf\u001b[49m\u001b[43m,\u001b[49m\u001b[43m \u001b[49m\u001b[38;5;28;43mself\u001b[39;49m\u001b[38;5;241;43m.\u001b[39;49m\u001b[43m_obj_with_exclusions\u001b[49m\u001b[43m)\u001b[49m\n\u001b[0;32m   1821\u001b[0m \u001b[38;5;66;03m# ignore SettingWithCopy here in case the user mutates\u001b[39;00m\n\u001b[0;32m   1822\u001b[0m \u001b[38;5;28;01mwith\u001b[39;00m option_context(\u001b[38;5;124m\"\u001b[39m\u001b[38;5;124mmode.chained_assignment\u001b[39m\u001b[38;5;124m\"\u001b[39m, \u001b[38;5;28;01mNone\u001b[39;00m):\n",
      "File \u001b[1;32mc:\\Users\\zhang\\miniconda3\\Lib\\site-packages\\pandas\\core\\groupby\\groupby.py:1885\u001b[0m, in \u001b[0;36mGroupBy._python_apply_general\u001b[1;34m(self, f, data, not_indexed_same, is_transform, is_agg)\u001b[0m\n\u001b[0;32m   1850\u001b[0m \u001b[38;5;129m@final\u001b[39m\n\u001b[0;32m   1851\u001b[0m \u001b[38;5;28;01mdef\u001b[39;00m \u001b[38;5;21m_python_apply_general\u001b[39m(\n\u001b[0;32m   1852\u001b[0m     \u001b[38;5;28mself\u001b[39m,\n\u001b[1;32m   (...)\u001b[0m\n\u001b[0;32m   1857\u001b[0m     is_agg: \u001b[38;5;28mbool\u001b[39m \u001b[38;5;241m=\u001b[39m \u001b[38;5;28;01mFalse\u001b[39;00m,\n\u001b[0;32m   1858\u001b[0m ) \u001b[38;5;241m-\u001b[39m\u001b[38;5;241m>\u001b[39m NDFrameT:\n\u001b[0;32m   1859\u001b[0m \u001b[38;5;250m    \u001b[39m\u001b[38;5;124;03m\"\"\"\u001b[39;00m\n\u001b[0;32m   1860\u001b[0m \u001b[38;5;124;03m    Apply function f in python space\u001b[39;00m\n\u001b[0;32m   1861\u001b[0m \n\u001b[1;32m   (...)\u001b[0m\n\u001b[0;32m   1883\u001b[0m \u001b[38;5;124;03m        data after applying f\u001b[39;00m\n\u001b[0;32m   1884\u001b[0m \u001b[38;5;124;03m    \"\"\"\u001b[39;00m\n\u001b[1;32m-> 1885\u001b[0m     values, mutated \u001b[38;5;241m=\u001b[39m \u001b[38;5;28;43mself\u001b[39;49m\u001b[38;5;241;43m.\u001b[39;49m\u001b[43m_grouper\u001b[49m\u001b[38;5;241;43m.\u001b[39;49m\u001b[43mapply_groupwise\u001b[49m\u001b[43m(\u001b[49m\u001b[43mf\u001b[49m\u001b[43m,\u001b[49m\u001b[43m \u001b[49m\u001b[43mdata\u001b[49m\u001b[43m,\u001b[49m\u001b[43m \u001b[49m\u001b[38;5;28;43mself\u001b[39;49m\u001b[38;5;241;43m.\u001b[39;49m\u001b[43maxis\u001b[49m\u001b[43m)\u001b[49m\n\u001b[0;32m   1886\u001b[0m     \u001b[38;5;28;01mif\u001b[39;00m not_indexed_same \u001b[38;5;129;01mis\u001b[39;00m \u001b[38;5;28;01mNone\u001b[39;00m:\n\u001b[0;32m   1887\u001b[0m         not_indexed_same \u001b[38;5;241m=\u001b[39m mutated\n",
      "File \u001b[1;32mc:\\Users\\zhang\\miniconda3\\Lib\\site-packages\\pandas\\core\\groupby\\ops.py:918\u001b[0m, in \u001b[0;36mBaseGrouper.apply_groupwise\u001b[1;34m(self, f, data, axis)\u001b[0m\n\u001b[0;32m    916\u001b[0m \u001b[38;5;66;03m# group might be modified\u001b[39;00m\n\u001b[0;32m    917\u001b[0m group_axes \u001b[38;5;241m=\u001b[39m group\u001b[38;5;241m.\u001b[39maxes\n\u001b[1;32m--> 918\u001b[0m res \u001b[38;5;241m=\u001b[39m \u001b[43mf\u001b[49m\u001b[43m(\u001b[49m\u001b[43mgroup\u001b[49m\u001b[43m)\u001b[49m\n\u001b[0;32m    919\u001b[0m \u001b[38;5;28;01mif\u001b[39;00m \u001b[38;5;129;01mnot\u001b[39;00m mutated \u001b[38;5;129;01mand\u001b[39;00m \u001b[38;5;129;01mnot\u001b[39;00m _is_indexed_like(res, group_axes, axis):\n\u001b[0;32m    920\u001b[0m     mutated \u001b[38;5;241m=\u001b[39m \u001b[38;5;28;01mTrue\u001b[39;00m\n",
      "Cell \u001b[1;32mIn[15], line 34\u001b[0m, in \u001b[0;36mwebsite_stats\u001b[1;34m(this_df)\u001b[0m\n\u001b[0;32m     30\u001b[0m trackers_internal_all \u001b[38;5;241m&\u001b[39m\u001b[38;5;241m=\u001b[39m \u001b[38;5;28mset\u001b[39m(row\u001b[38;5;241m.\u001b[39mtrackers_internal)\n\u001b[0;32m     32\u001b[0m trackers_details\u001b[38;5;241m.\u001b[39mappend(\u001b[38;5;28mset\u001b[39m(row\u001b[38;5;241m.\u001b[39mtrackers_click))\n\u001b[1;32m---> 34\u001b[0m tp_first \u001b[38;5;241m|\u001b[39m\u001b[38;5;241m=\u001b[39m \u001b[38;5;28mset\u001b[39m([ getGood2LD(d) \u001b[38;5;28;01mfor\u001b[39;00m d \u001b[38;5;129;01min\u001b[39;00m \u001b[43mjson\u001b[49m\u001b[38;5;241;43m.\u001b[39;49m\u001b[43mloads\u001b[49m\u001b[43m(\u001b[49m\u001b[43mrow\u001b[49m\u001b[38;5;241;43m.\u001b[39;49m\u001b[43mdomains_first\u001b[49m\u001b[43m)\u001b[49m \u001b[38;5;28;01mif\u001b[39;00m d \u001b[38;5;241m!=\u001b[39m \u001b[38;5;124m\"\u001b[39m\u001b[38;5;124m\"\u001b[39m] )\n\u001b[0;32m     35\u001b[0m tp_click \u001b[38;5;241m|\u001b[39m\u001b[38;5;241m=\u001b[39m \u001b[38;5;28mset\u001b[39m([ getGood2LD(d) \u001b[38;5;28;01mfor\u001b[39;00m d \u001b[38;5;129;01min\u001b[39;00m json\u001b[38;5;241m.\u001b[39mloads(row\u001b[38;5;241m.\u001b[39mdomains_click) \u001b[38;5;28;01mif\u001b[39;00m d \u001b[38;5;241m!=\u001b[39m \u001b[38;5;124m\"\u001b[39m\u001b[38;5;124m\"\u001b[39m])      \n\u001b[0;32m     37\u001b[0m \u001b[38;5;28;01mfor\u001b[39;00m c \u001b[38;5;129;01min\u001b[39;00m \u001b[38;5;28mlist\u001b[39m(similarweb_websites\u001b[38;5;241m.\u001b[39mkeys()):\n",
      "File \u001b[1;32mc:\\Users\\zhang\\miniconda3\\Lib\\json\\__init__.py:346\u001b[0m, in \u001b[0;36mloads\u001b[1;34m(s, cls, object_hook, parse_float, parse_int, parse_constant, object_pairs_hook, **kw)\u001b[0m\n\u001b[0;32m    341\u001b[0m     s \u001b[38;5;241m=\u001b[39m s\u001b[38;5;241m.\u001b[39mdecode(detect_encoding(s), \u001b[38;5;124m'\u001b[39m\u001b[38;5;124msurrogatepass\u001b[39m\u001b[38;5;124m'\u001b[39m)\n\u001b[0;32m    343\u001b[0m \u001b[38;5;28;01mif\u001b[39;00m (\u001b[38;5;28mcls\u001b[39m \u001b[38;5;129;01mis\u001b[39;00m \u001b[38;5;28;01mNone\u001b[39;00m \u001b[38;5;129;01mand\u001b[39;00m object_hook \u001b[38;5;129;01mis\u001b[39;00m \u001b[38;5;28;01mNone\u001b[39;00m \u001b[38;5;129;01mand\u001b[39;00m\n\u001b[0;32m    344\u001b[0m         parse_int \u001b[38;5;129;01mis\u001b[39;00m \u001b[38;5;28;01mNone\u001b[39;00m \u001b[38;5;129;01mand\u001b[39;00m parse_float \u001b[38;5;129;01mis\u001b[39;00m \u001b[38;5;28;01mNone\u001b[39;00m \u001b[38;5;129;01mand\u001b[39;00m\n\u001b[0;32m    345\u001b[0m         parse_constant \u001b[38;5;129;01mis\u001b[39;00m \u001b[38;5;28;01mNone\u001b[39;00m \u001b[38;5;129;01mand\u001b[39;00m object_pairs_hook \u001b[38;5;129;01mis\u001b[39;00m \u001b[38;5;28;01mNone\u001b[39;00m \u001b[38;5;129;01mand\u001b[39;00m \u001b[38;5;129;01mnot\u001b[39;00m kw):\n\u001b[1;32m--> 346\u001b[0m     \u001b[38;5;28;01mreturn\u001b[39;00m \u001b[43m_default_decoder\u001b[49m\u001b[38;5;241;43m.\u001b[39;49m\u001b[43mdecode\u001b[49m\u001b[43m(\u001b[49m\u001b[43ms\u001b[49m\u001b[43m)\u001b[49m\n\u001b[0;32m    347\u001b[0m \u001b[38;5;28;01mif\u001b[39;00m \u001b[38;5;28mcls\u001b[39m \u001b[38;5;129;01mis\u001b[39;00m \u001b[38;5;28;01mNone\u001b[39;00m:\n\u001b[0;32m    348\u001b[0m     \u001b[38;5;28mcls\u001b[39m \u001b[38;5;241m=\u001b[39m JSONDecoder\n",
      "File \u001b[1;32mc:\\Users\\zhang\\miniconda3\\Lib\\json\\decoder.py:337\u001b[0m, in \u001b[0;36mJSONDecoder.decode\u001b[1;34m(self, s, _w)\u001b[0m\n\u001b[0;32m    332\u001b[0m \u001b[38;5;28;01mdef\u001b[39;00m \u001b[38;5;21mdecode\u001b[39m(\u001b[38;5;28mself\u001b[39m, s, _w\u001b[38;5;241m=\u001b[39mWHITESPACE\u001b[38;5;241m.\u001b[39mmatch):\n\u001b[0;32m    333\u001b[0m \u001b[38;5;250m    \u001b[39m\u001b[38;5;124;03m\"\"\"Return the Python representation of ``s`` (a ``str`` instance\u001b[39;00m\n\u001b[0;32m    334\u001b[0m \u001b[38;5;124;03m    containing a JSON document).\u001b[39;00m\n\u001b[0;32m    335\u001b[0m \n\u001b[0;32m    336\u001b[0m \u001b[38;5;124;03m    \"\"\"\u001b[39;00m\n\u001b[1;32m--> 337\u001b[0m     obj, end \u001b[38;5;241m=\u001b[39m \u001b[38;5;28;43mself\u001b[39;49m\u001b[38;5;241;43m.\u001b[39;49m\u001b[43mraw_decode\u001b[49m\u001b[43m(\u001b[49m\u001b[43ms\u001b[49m\u001b[43m,\u001b[49m\u001b[43m \u001b[49m\u001b[43midx\u001b[49m\u001b[38;5;241;43m=\u001b[39;49m\u001b[43m_w\u001b[49m\u001b[43m(\u001b[49m\u001b[43ms\u001b[49m\u001b[43m,\u001b[49m\u001b[43m \u001b[49m\u001b[38;5;241;43m0\u001b[39;49m\u001b[43m)\u001b[49m\u001b[38;5;241;43m.\u001b[39;49m\u001b[43mend\u001b[49m\u001b[43m(\u001b[49m\u001b[43m)\u001b[49m\u001b[43m)\u001b[49m\n\u001b[0;32m    338\u001b[0m     end \u001b[38;5;241m=\u001b[39m _w(s, end)\u001b[38;5;241m.\u001b[39mend()\n\u001b[0;32m    339\u001b[0m     \u001b[38;5;28;01mif\u001b[39;00m end \u001b[38;5;241m!=\u001b[39m \u001b[38;5;28mlen\u001b[39m(s):\n",
      "File \u001b[1;32mc:\\Users\\zhang\\miniconda3\\Lib\\json\\decoder.py:355\u001b[0m, in \u001b[0;36mJSONDecoder.raw_decode\u001b[1;34m(self, s, idx)\u001b[0m\n\u001b[0;32m    353\u001b[0m     obj, end \u001b[38;5;241m=\u001b[39m \u001b[38;5;28mself\u001b[39m\u001b[38;5;241m.\u001b[39mscan_once(s, idx)\n\u001b[0;32m    354\u001b[0m \u001b[38;5;28;01mexcept\u001b[39;00m \u001b[38;5;167;01mStopIteration\u001b[39;00m \u001b[38;5;28;01mas\u001b[39;00m err:\n\u001b[1;32m--> 355\u001b[0m     \u001b[38;5;28;01mraise\u001b[39;00m JSONDecodeError(\u001b[38;5;124m\"\u001b[39m\u001b[38;5;124mExpecting value\u001b[39m\u001b[38;5;124m\"\u001b[39m, s, err\u001b[38;5;241m.\u001b[39mvalue) \u001b[38;5;28;01mfrom\u001b[39;00m \u001b[38;5;28;01mNone\u001b[39;00m\n\u001b[0;32m    356\u001b[0m \u001b[38;5;28;01mreturn\u001b[39;00m obj, end\n",
      "\u001b[1;31mJSONDecodeError\u001b[0m: Expecting value: line 1 column 2 (char 1)"
     ]
    }
   ],
   "source": [
    "\n",
    "def website_stats(this_df):\n",
    "    num = len(this_df.index)\n",
    "    trackers_first = set()\n",
    "    trackers_click = set()\n",
    "    trackers_internal = set()\n",
    "    \n",
    "    trackers_first_all = set(this_df.iloc[0].trackers_first)\n",
    "    trackers_click_all = set(this_df.iloc[0].trackers_click)\n",
    "    trackers_internal_all = set(this_df.iloc[0].trackers_internal)\n",
    "    trackers_details = []\n",
    "\n",
    "    has_found_banner = False\n",
    "    \n",
    "    tp_first = set()\n",
    "    tp_click = set()\n",
    "    \n",
    "    countries = { c:False for c in similarweb_websites.keys()}\n",
    "    cats = { c:False for c in categories.keys()}\n",
    "    #+ list(similarweb_websites.keys()) + list(categories.keys())\n",
    "    \n",
    "    \n",
    "    for i, row in this_df.iterrows():\n",
    "\n",
    "        trackers_first |= set(row.trackers_first)\n",
    "        trackers_click |= set(row.trackers_click)\n",
    "        trackers_internal |= set(row.trackers_internal)\n",
    "        \n",
    "        trackers_first_all &= set(row.trackers_first)\n",
    "        trackers_click_all &= set(row.trackers_click)\n",
    "        trackers_internal_all &= set(row.trackers_internal)\n",
    "        \n",
    "        trackers_details.append(set(row.trackers_click))\n",
    "        \n",
    "        tp_first |= set([ getGood2LD(d) for d in json.loads(row.domains_first) if d != \"\"] )\n",
    "        tp_click |= set([ getGood2LD(d) for d in json.loads(row.domains_click) if d != \"\"])      \n",
    "        \n",
    "        for c in list(similarweb_websites.keys()):\n",
    "            countries[c] |= row[c]\n",
    "\n",
    "        for c in list(categories.keys()):\n",
    "            cats[c] |= row[c]\n",
    "            \n",
    "        if row.has_found_banner:\n",
    "            has_found_banner=True\n",
    "        \n",
    "    trackers_only_click = trackers_click - trackers_first\n",
    "    \n",
    "    trackers_acc = set()\n",
    "    trackers_incremental = []\n",
    "    for s in trackers_details:\n",
    "        trackers_acc |= s\n",
    "        trackers_incremental.append(len(trackers_acc))\n",
    "    \n",
    "    return pd.Series({\"count\": num,\n",
    "                      \"trackers_first\": trackers_first,\n",
    "                      \"trackers_click\": trackers_click,\n",
    "                      \"trackers_only_click\": trackers_only_click,\n",
    "                      \"trackers_internal\": trackers_internal,\n",
    "                      \n",
    "                      \"trackers_first_all\": trackers_first_all,\n",
    "                      \"trackers_click_all\": trackers_click_all,\n",
    "                      \"trackers_internal_all\": trackers_internal_all,\n",
    "                      \n",
    "                      \"trackers_incremental_nb\": trackers_incremental,\n",
    "                    \n",
    "                      \"tp_first\": tp_first,\n",
    "                      \"tp_click\": tp_click,\n",
    "                      \"has_found_banner\": has_found_banner,\n",
    "                      \"onload_first\": this_df[\"onload_first\"].median(),\n",
    "                      \"onload_second\": this_df[\"onload_second\"].median(),\n",
    "                      \"rum_first\": this_df[\"rum_first\"].mean(),\n",
    "                      \"rum_second\": this_df[\"rum_second\"].mean(),\n",
    "                      \"objects_first\": this_df[\"objects_first\"].mean(),\n",
    "                      \"objects_second\": this_df[\"objects_second\"].mean(),\n",
    "                      \"bytes_first\": this_df[\"bytes_first\"].median(),\n",
    "                      \"bytes_second\": this_df[\"bytes_second\"].median(),\n",
    "                      \"byte_index_first\": this_df[\"byte_index_first\"].mean(),\n",
    "                      \"object_index_first\": this_df[\"object_index_first\"].mean(),\n",
    "                      \"byte_index_second\": this_df[\"byte_index_second\"].mean(),\n",
    "                      \"object_index_second\": this_df[\"object_index_second\"].mean(),\n",
    "                      **countries, **cats\n",
    "                     })\n",
    "# grouped = df.groupby([\"sld\"]).apply(website_stats).reset_index()\n",
    "grouped = df.groupby([\"sld\"]).apply(website_stats,include_groups=False).reset_index()\n",
    "grouped"
   ]
  }
 ],
 "metadata": {
  "kernelspec": {
   "display_name": "base",
   "language": "python",
   "name": "python3"
  },
  "language_info": {
   "codemirror_mode": {
    "name": "ipython",
    "version": 3
   },
   "file_extension": ".py",
   "mimetype": "text/x-python",
   "name": "python",
   "nbconvert_exporter": "python",
   "pygments_lexer": "ipython3",
   "version": "3.11.5"
  }
 },
 "nbformat": 4,
 "nbformat_minor": 2
}
